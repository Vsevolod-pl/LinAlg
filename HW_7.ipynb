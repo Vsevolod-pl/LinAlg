{
 "cells": [
  {
   "cell_type": "code",
   "execution_count": 1,
   "metadata": {},
   "outputs": [],
   "source": [
    "from LinAlgFuncs import *\n",
    "from SymbolicCalcs import *"
   ]
  },
  {
   "cell_type": "code",
   "execution_count": 6,
   "metadata": {},
   "outputs": [],
   "source": [
    "import sympy as sp"
   ]
  },
  {
   "cell_type": "markdown",
   "metadata": {},
   "source": [
    "## 1 "
   ]
  },
  {
   "cell_type": "markdown",
   "metadata": {},
   "source": [
    "Сначала найдём плоскость параллельную плоскости $-5x -y -2z=3$, проходящую через точку $(12, 13, -29)$: \n",
    "$\\beta = -5x -y -2z = -5*12-13-2*-29 = -15$;  \n",
    "Теперь найдём точку пересечения плоскости $\\beta$ и прямой $x = -4t + 17, y = 4t, z = -5t -9$: \n",
    "$-5*(-4t+17) - (4t) -2*(-5t-9) = -15 \\iff 26t = 52 \\iff t = 2 \\iff$ вторая точка = (9, 8, -19);\n",
    "\n",
    "Итого уравнение прямой = $(12, 13, -29) + t(3, 5, -10)$"
   ]
  },
  {
   "cell_type": "markdown",
   "metadata": {},
   "source": [
    "## 2 "
   ]
  },
  {
   "cell_type": "code",
   "execution_count": 18,
   "metadata": {},
   "outputs": [
    {
     "name": "stdout",
     "output_type": "stream",
     "text": [
      "[14,  0,  7] [14,  0,  6]\n"
     ]
    }
   ],
   "source": [
    "A = Tensor([0,0,0])\n",
    "B = Tensor([14, 0, 0])\n",
    "C = Tensor([14,14,0])\n",
    "D = Tensor([0,14,0])\n",
    "\n",
    "A1 = Tensor([0,0,14])\n",
    "B1 = Tensor([14, 0, 14])\n",
    "C1 = Tensor([14,14,14])\n",
    "D1 = Tensor([0,14,14])\n",
    "\n",
    "E = (B+B1)*Fraction(1,2)\n",
    "F = (4*B + 3*B1)*Fraction(1,7)\n",
    "print(E, F)"
   ]
  },
  {
   "cell_type": "markdown",
   "metadata": {},
   "source": [
    "Угол между прямыми $AE$ и $D'F$ равен углу между векторами $AE$ и $D'F$\n",
    "\n",
    "$$\\angle(AE, D'F) = min(arccos(\\frac{AE\\times D'F}{|AE||D'F|}), 180 - arccos(\\frac{AE\\times D'F}{|AE||D'F|}))$$"
   ]
  },
  {
   "cell_type": "code",
   "execution_count": 19,
   "metadata": {},
   "outputs": [
    {
     "data": {
      "text/plain": [
       "Fraction(140, 1)Fraction(111720, 1)^Fraction(1, 2)"
      ]
     },
     "execution_count": 19,
     "metadata": {},
     "output_type": "execute_result"
    }
   ],
   "source": [
    "ae = A-E\n",
    "d1f = D1-F\n",
    "dot(ae,d1f)*ExpressionPower(dot(ae,ae)*dot(d1f,d1f), Fraction(1,2))"
   ]
  },
  {
   "cell_type": "markdown",
   "metadata": {},
   "source": [
    "$\\angle\\left(AE, D'F\\right) = min\\left(arccos\\left(\\frac{140}{\\sqrt{111720}}\\right), 180 - arccos\\left(\\frac{140}{\\sqrt{111720}}\\right)\\right) = min\\left(arccos\\left(\\frac{\\sqrt{570}}{57}\\right), 180 - arccos\\left(\\frac{\\sqrt{570}}{57}\\right)\\right)$"
   ]
  },
  {
   "cell_type": "markdown",
   "metadata": {},
   "source": [
    "Чтобы найти расстояние между прямыми = $$\\frac{\\left|\\left(\\overline{AE}, \\right)\\right|}{\\left|\\left[\\overline{AE}, \\overline{D'F}\\right]\\right|}$$"
   ]
  },
  {
   "cell_type": "code",
   "execution_count": 25,
   "metadata": {},
   "outputs": [
    {
     "data": {
      "text/plain": [
       "[0, 0, 0]"
      ]
     },
     "execution_count": 25,
     "metadata": {},
     "output_type": "execute_result"
    }
   ],
   "source": [
    "dot(a,cross(b,c))"
   ]
  },
  {
   "cell_type": "code",
   "execution_count": 27,
   "metadata": {},
   "outputs": [
    {
     "data": {
      "text/plain": [
       "Fraction(-1, 470)"
      ]
     },
     "execution_count": 27,
     "metadata": {},
     "output_type": "execute_result"
    }
   ],
   "source": [
    "dot(ae, cross(d1f, E-F))/dot(cross(ae, d1f), cross(ae, d1f))"
   ]
  },
  {
   "cell_type": "markdown",
   "metadata": {},
   "source": [
    "## 3 "
   ]
  },
  {
   "cell_type": "code",
   "execution_count": null,
   "metadata": {},
   "outputs": [],
   "source": [
    "x = Variable(\"x\")\n",
    "A = tensor_from_iterable([\n",
    "    [-12, 8, 5],\n",
    "    [-12, 8, 6],\n",
    "    [2, -2, -3]])"
   ]
  },
  {
   "cell_type": "code",
   "execution_count": null,
   "metadata": {},
   "outputs": [],
   "source": [
    "B = (A - I(3)*x)\n",
    "B"
   ]
  },
  {
   "cell_type": "code",
   "execution_count": null,
   "metadata": {},
   "outputs": [],
   "source": [
    "print(det_by_minors(B))"
   ]
  },
  {
   "cell_type": "markdown",
   "metadata": {},
   "source": [
    "$-x^3 -7x^2 -14x-8 = 0 \\iff x^3 + 7x^2 + 14x + 8 = 0$. Заметим, что $-1^3 +7*-1^2 +14*-1 + 8 = 0 \\Rightarrow x = -1$ - корень. \n",
    "$x^3 + 7x^2 + 14x + 8 = (x+1)*(x^2 + 6x + 8)$.  \n",
    "Соответственно корни: $x = -1, \\ x = \\frac{-6 + \\sqrt{36 - 4*8}}{2} = -2, \\ x = \\frac{-6 - \\sqrt{36 - 4*8}}{2} = -4$ \n",
    "\n",
    "Чтобы найти собственные вектора, решим уравнение вида\n",
    "$A\\times v = \\lambda * v \\iff (A-\\lambda * E)\\times v = 0$"
   ]
  },
  {
   "cell_type": "code",
   "execution_count": null,
   "metadata": {},
   "outputs": [],
   "source": [
    "v1 = solve_hsle(A - I(3)*-1)[0]\n",
    "print(v1)\n",
    "v2 = solve_hsle(A - I(3)*-2)[0]\n",
    "print(v2)\n",
    "v3 = solve_hsle(A - I(3)*-4)[0]\n",
    "print(v3)"
   ]
  },
  {
   "cell_type": "code",
   "execution_count": null,
   "metadata": {},
   "outputs": [],
   "source": [
    "rref(Tensor([v1, v2, v3]))"
   ]
  },
  {
   "cell_type": "markdown",
   "metadata": {},
   "source": [
    "3 вектора линейно независимы $\\Rightarrow$ они образуют в $\\mathbb{R}^3$ базис $\\Rightarrow \\varphi$ - диагонализуем\n",
    "базис, в котором $\\varphi$ диагонален - $\\left\\{(-1, -2,  1),\\left(\\frac{1}{2},   0,   1\\right),(1, 1, 0)\\right\\}$\n",
    "\n",
    "При этом его матрица = $\\begin{pmatrix}-1 & 0 &0\\\\\n",
    "0 & -2 & 0\\\\\n",
    "0 & 0 & -4\\end{pmatrix}$"
   ]
  },
  {
   "cell_type": "markdown",
   "metadata": {},
   "source": [
    "## 4\n",
    "\n",
    "$Q(x_1, x_2, x_3) = 5x_1^2 + 5x_2^2 + 5x_3^2 -4x_1x_2 + 4x_1x_3 -4x_2x_3$"
   ]
  },
  {
   "cell_type": "code",
   "execution_count": 12,
   "metadata": {},
   "outputs": [],
   "source": [
    "y = Variable(\"y\")\n",
    "A = tensor_from_iterable([\n",
    "    [5, -2, 2],\n",
    "    [-2, 5, -2],\n",
    "    [2, -2, 5]\n",
    "])"
   ]
  },
  {
   "cell_type": "code",
   "execution_count": 13,
   "metadata": {},
   "outputs": [
    {
     "data": {
      "text/plain": [
       "(-1y^3 + 15y^2 + -63y + 81)"
      ]
     },
     "execution_count": 13,
     "metadata": {},
     "output_type": "execute_result"
    }
   ],
   "source": [
    "det_by_minors(A - I(3)*y)"
   ]
  },
  {
   "cell_type": "markdown",
   "metadata": {},
   "source": [
    "Характеристический многочлен A = $-y^3 + 15y^2 -63y + 81 = (y-3)(y^2- 12y + 27) = (y-3)^2(y-9)$"
   ]
  },
  {
   "cell_type": "code",
   "execution_count": 14,
   "metadata": {},
   "outputs": [
    {
     "name": "stdout",
     "output_type": "stream",
     "text": [
      "[1, 1, 0]\n",
      "[-1,  0,  1]\n",
      "[ 1, -1,  1]\n"
     ]
    }
   ],
   "source": [
    "v1, v2 = solve_hsle(A - I(3)*3)\n",
    "print(v1)\n",
    "print(v2)\n",
    "v3 = solve_hsle(A - I(3)*9)[0]\n",
    "print(v3)"
   ]
  },
  {
   "cell_type": "code",
   "execution_count": 15,
   "metadata": {},
   "outputs": [
    {
     "name": "stdout",
     "output_type": "stream",
     "text": [
      "[[1, 1, 0], [-1/2,  1/2,    1], [ 1, -1,  1]]\n"
     ]
    }
   ],
   "source": [
    "e1 = Tensor([v1, v2, v3])\n",
    "e = orthogonalize(e1)\n",
    "print(e)\n",
    "v1, v2, v3 = e"
   ]
  },
  {
   "cell_type": "code",
   "execution_count": null,
   "metadata": {},
   "outputs": [],
   "source": [
    "dot(v1, v1), dot(v2, v2), dot(v3, v3)"
   ]
  },
  {
   "cell_type": "markdown",
   "metadata": {},
   "source": [
    "Отнормируем базис:\n",
    "\n",
    "$(1,1,0)*\\frac{1}{\\sqrt{2}};\\\\\n",
    "\\left(-\\frac{1}{2},\\frac{1}{2},1\\right)*\\frac{\\sqrt{2}}{\\sqrt{3}};\\\\\n",
    "(1, -1, 1)*\\frac{1}{\\sqrt{3}};$ \n",
    "\n",
    "$\\left(\\frac{1}{\\sqrt{2}} , \\frac{1}{\\sqrt{2}} , 0 \\right),\\\\\n",
    "\\left(-\\frac{\\sqrt{2}}{2\\sqrt{3}}, \\frac{\\sqrt{2}}{2\\sqrt{3}}, \\frac{\\sqrt{2}}{\\sqrt{3}}\\right),\\\\\n",
    "\\left(\\frac{1}{\\sqrt{3}}, -\\frac{1}{\\sqrt{3}}, \\frac{1}{\\sqrt{3}}\\right)$\n",
    "\n",
    "Тогда матрица перехода $ = \\begin{pmatrix}\\frac{1}{\\sqrt{2}} & \\frac{1}{\\sqrt{2}} & 0\\\\\n",
    "-\\frac{\\sqrt{2}}{2\\sqrt{3}} & \\frac{\\sqrt{2}}{2\\sqrt{3}} & \\frac{\\sqrt{2}}{\\sqrt{3}}\\\\\n",
    "\\frac{1}{\\sqrt{3}} & -\\frac{1}{\\sqrt{3}} & \\frac{1}{\\sqrt{3}}\\end{pmatrix}$\n",
    "\n",
    "Канонический вид квадратичной формы: $\\begin{pmatrix}3& 0 & 0\\\\\n",
    "0 & 3 & 0\\\\\n",
    "0 & 0 & 9\\end{pmatrix}$"
   ]
  }
 ],
 "metadata": {
  "kernelspec": {
   "display_name": "Python 3",
   "language": "python",
   "name": "python3"
  },
  "language_info": {
   "codemirror_mode": {
    "name": "ipython",
    "version": 3
   },
   "file_extension": ".py",
   "mimetype": "text/x-python",
   "name": "python",
   "nbconvert_exporter": "python",
   "pygments_lexer": "ipython3",
   "version": "3.7.6"
  }
 },
 "nbformat": 4,
 "nbformat_minor": 4
}
