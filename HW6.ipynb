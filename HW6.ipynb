{
 "cells": [
  {
   "cell_type": "markdown",
   "metadata": {},
   "source": [
    "# № 1"
   ]
  },
  {
   "cell_type": "markdown",
   "metadata": {},
   "source": [
    "Приведём $- x_{1}^{2} - 12 x_{1} x_{2} + 6 x_{1} x_{3} + x_{2}^{2} \\left(4 b - 6\\right) + x_{2} x_{3} \\left(12 b + 12\\right) + x_{3}^{2} \\left(9 b + 8\\right)$ к каноничному виду методом Лагранжа:\n",
    "\n",
    "Выделим полный квадрат с $x_{1}$:\n",
    "$-(x_{1} + 6 x_{2} - 3 x_{3})^{2} = - x_{1}^{2} - 12 x_{1} x_{2} + 6 x_{1} x_{3} - 36 x_{2}^{2} + 36 x_{2} x_{3} - 9 x_{3}^{2}$  \n",
    "В квадратичной форме останется:\n",
    "\n",
    "$4 b x_{2}^{2} + 12 b x_{2} x_{3} + 9 b x_{3}^{2} + 30 x_{2}^{2} - 24 x_{2} x_{3} + 17 x_{3}^{2} = x_{2}^{2} (4 b + 30) + x_{2} x_{3}(12 b  - 24 ) + x_{3}^{2} \\left(9 b + 17\\right)$\n",
    "\n",
    "Если $4b+30 \\neq 0$ : выделим полный квадрат: $\\left(4 b + 30\\right) \\left(x_{2} + \\frac{x_{3} \\left(12 b - 24\\right)}{8 b + 60}\\right)^{2} = x_{2}^{2} \\left(4 b + 30\\right) + x_{2} x_{3} \\left(12 b - 24 \\right) + 9 x_{3}^{2}\\frac{b^{2} - 4 b + 4}{4 b^{2} + 60 b + 225}$\n",
    "\n",
    "Останется: $\\left(9 b - \\frac{9 \\left(b - 2\\right)^{2}}{\\left(2 b - 15\\right)^{2}} + 17\\right)x_{3}^{2}$  \n",
    "Если $b = -\\frac{15}{2}$, выделим полный квадрат с $x_{3}$:\n",
    "\n",
    "$- \\frac{101 \\left(\\frac{57 x_{2}}{101} + x_{3}\\right)^{2}}{2} = - \\frac{3249 x_{2}^{2}}{202} - 57 x_{2} x_{3} - \\frac{101 x_{3}^{2}}{2}$\n",
    "\n",
    "Таким образом, в каноничной форме при $b \\neq -\\frac{15}{2}$ квадратичная форма принимает вид:\n",
    "\n",
    "$y_1^2 + y_2^2 + \\left(9 b - \\frac{9 \\left(b - 2\\right)^{2}}{\\left(2 b - 15\\right)^{2}} + 17\\right)y_{3}^{2}$\n",
    "\n",
    "Иначе, $y_1^2 - \\frac{3249 y_{2}^{2}}{202} + y_3^2$"
   ]
  },
  {
   "cell_type": "markdown",
   "metadata": {},
   "source": [
    "# № 2 "
   ]
  },
  {
   "cell_type": "code",
   "execution_count": 1,
   "metadata": {},
   "outputs": [],
   "source": [
    "from LinAlgFuncs import *"
   ]
  },
  {
   "cell_type": "code",
   "execution_count": 2,
   "metadata": {},
   "outputs": [],
   "source": [
    "def argmax(l):\n",
    "    return max(zip(l, range(len(l))))[1]\n",
    "\n",
    "def canon_square_Lagrange(Q):\n",
    "    assert len(Q.shape()) == 2, \"Need 2D Matrix\"\n",
    "    n = Q.shape()[0]\n",
    "    Q = Q.copy()\n",
    "    res = I(n)\n",
    "    assert n == Q.shape()[1], \"Need aquare matrix\"\n",
    "    i = 0\n",
    "    while i<n:\n",
    "        S = I(n)\n",
    "        if Q[i][i] != 0 and max(map(abs, Q[i][i:])) != 0:\n",
    "            S[i][i+1:] = -1*Q[i][i+1:]*Fraction(1,Q[i][i])\n",
    "            i+=1\n",
    "        elif max(map(abs, Q[i][i:])) != 0:\n",
    "            t = argmax(map(abs, Q[i][i:]))\n",
    "            S[i][t] = -1\n",
    "            S[t][i] = 1\n",
    "        else:\n",
    "            i+=1\n",
    "        Q = dot(S.transpose2(),dot(Q, S))\n",
    "        res = dot(res,S)\n",
    "    return res"
   ]
  },
  {
   "cell_type": "code",
   "execution_count": 3,
   "metadata": {},
   "outputs": [],
   "source": [
    "G = tensor_from_iterable([\n",
    "    [33, 2 , 17],\n",
    "    [ 2, 22, -9],\n",
    "    [17, -9, 22]\n",
    "])"
   ]
  },
  {
   "cell_type": "code",
   "execution_count": 4,
   "metadata": {},
   "outputs": [
    {
     "name": "stdout",
     "output_type": "stream",
     "text": [
      "матрица перехода: \n",
      " [[       1,    -2/33, -196/361],\n",
      " [       0,        1,  331/722],\n",
      " [       0,        0,        1]]\n"
     ]
    },
    {
     "data": {
      "text/plain": [
       "[[      33,        0,        0],\n",
       " [       0,   722/33,        0],\n",
       " [       0,        0, 6241/722]]"
      ]
     },
     "execution_count": 4,
     "metadata": {},
     "output_type": "execute_result"
    }
   ],
   "source": [
    "C = canon_square_Lagrange(G)\n",
    "print(\"матрица перехода: \\n\", C)\n",
    "G1 = dot(C.transpose2(), dot(G, C))\n",
    "G1"
   ]
  },
  {
   "cell_type": "markdown",
   "metadata": {},
   "source": [
    "Все элементы на диагонали - неотрицательны $\\Rightarrow G_1$ - матрица Грамма $\\Rightarrow G$ - матрица Грамма    \n",
    "На диагонали матрицы $G_1$ записаны квадраты длин векторов ортогональной системы, в качестве ортогональной системы векторов возьмём стандартный базис в $\\mathbb{R}^3$:  \n",
    "$[1,0,0]$,   \n",
    "$[0,1,0]$,  \n",
    "$[0,0,1]$  \n",
    "Умножим их на длины векторов:  \n",
    "$v_1 =\\left[\\sqrt{33}, 0, 0\\right]$  \n",
    "$v_2 = \\left[0, \\frac{19 \\sqrt{66}}{33}, 0\\right]$  \n",
    "$v_3 = \\left[0, 0, \\frac{79 \\sqrt{2}}{38}\\right]$\n",
    "\n",
    "Дальше умножим матрицу $A = (v_1, v_2, v_3) = \\begin{pmatrix}\n",
    "\\sqrt{33} & 0 & 0\\\\\n",
    "0 & \\frac{19 \\sqrt{66}}{33} & 0\\\\\n",
    "0 & 0 & \\frac{79 \\sqrt{2}}{38}\n",
    "\\end{pmatrix}$ справа на обратную матрицу перехода:  "
   ]
  },
  {
   "cell_type": "code",
   "execution_count": 5,
   "metadata": {},
   "outputs": [
    {
     "data": {
      "text/plain": [
       "[[       1,     2/33,    17/33],\n",
       " [       0,        1, -331/722],\n",
       " [       0,        0,        1]]"
      ]
     },
     "execution_count": 5,
     "metadata": {},
     "output_type": "execute_result"
    }
   ],
   "source": [
    "inverse_Gauss(C)"
   ]
  },
  {
   "cell_type": "markdown",
   "metadata": {},
   "source": [
    "$A \\times C^{-1} = \\begin{pmatrix}\n",
    "\\sqrt{33} & \\frac{2 \\sqrt{33}}{33} & \\frac{17 \\sqrt{33}}{33}\\\\\n",
    "0 & \\frac{19 \\sqrt{66}}{33} & - \\frac{331 \\sqrt{66}}{1254}\\\\\n",
    "0 & 0 & \\frac{79 \\sqrt{2}}{38}\n",
    "\\end{pmatrix}$"
   ]
  },
  {
   "cell_type": "markdown",
   "metadata": {},
   "source": [
    "Соотвтетственно вектора =  \n",
    "$\\left[\\sqrt{33} , 0 , 0\\right]$  \n",
    "$\\left[\\frac{2 \\sqrt{33}}{33} , \\frac{19 \\sqrt{66}}{33} , 0\\right]$  \n",
    "$\\left[\\frac{17 \\sqrt{33}}{33} , - \\frac{331 \\sqrt{66}}{1254} , \\frac{79 \\sqrt{2}}{38}\\right]$"
   ]
  },
  {
   "cell_type": "markdown",
   "metadata": {},
   "source": [
    "# № 3 "
   ]
  },
  {
   "cell_type": "markdown",
   "metadata": {},
   "source": [
    "Чтобы дополнить систему векторов до ортонормированной, добавим к ней единичный базис и ортогонализуем:"
   ]
  },
  {
   "cell_type": "code",
   "execution_count": 6,
   "metadata": {},
   "outputs": [
    {
     "data": {
      "text/plain": [
       "[[-2/11, -8/11, -7/11, -2/11],\n",
       " [117/121, -16/121, -14/121,  -4/121],\n",
       " [      0,  53/117, -56/117, -16/117],\n",
       " [     0,      0,   4/53, -14/53]]"
      ]
     },
     "execution_count": 6,
     "metadata": {},
     "output_type": "execute_result"
    }
   ],
   "source": [
    "v = Tensor([-2,-8,-7,-2])*Fraction(1,11)\n",
    "e = I(4)\n",
    "e.insert(0, v)\n",
    "ort = orthogonalize(e)\n",
    "ort"
   ]
  },
  {
   "cell_type": "code",
   "execution_count": 7,
   "metadata": {},
   "outputs": [
    {
     "name": "stdout",
     "output_type": "stream",
     "text": [
      "[[  Fraction(-2, 11),   Fraction(-8, 11),   Fraction(-7, 11),   Fraction(-2, 11)],\n",
      " [Fraction(117, 121), Fraction(-16, 121), Fraction(-14, 121),  Fraction(-4, 121)],\n",
      " [    Fraction(0, 1),  Fraction(53, 117), Fraction(-56, 117), Fraction(-16, 117)],\n",
      " [    Fraction(0, 1),     Fraction(0, 1),    Fraction(4, 53),  Fraction(-14, 53)]]\n"
     ]
    }
   ],
   "source": [
    "print(Tensor(ort).__repr__(repr_items=1))"
   ]
  },
  {
   "cell_type": "markdown",
   "metadata": {},
   "source": [
    "Затем, отнормируем"
   ]
  },
  {
   "cell_type": "code",
   "execution_count": 8,
   "metadata": {},
   "outputs": [
    {
     "name": "stdout",
     "output_type": "stream",
     "text": [
      "1\n"
     ]
    }
   ],
   "source": [
    "print(dot(ort[0], ort[0])) # - этот вектор отнормирован"
   ]
  },
  {
   "cell_type": "code",
   "execution_count": 9,
   "metadata": {},
   "outputs": [
    {
     "name": "stdout",
     "output_type": "stream",
     "text": [
      "117/121\n"
     ]
    }
   ],
   "source": [
    "print(dot(ort[1], ort[1])) # - этот вектор не отнормирован"
   ]
  },
  {
   "cell_type": "markdown",
   "metadata": {},
   "source": [
    "$\\left[\\frac{117}{121}, -\\frac{16}{121}, -\\frac{14}{121}, -\\frac{4}{121}\\right]\\frac{11}{\\sqrt{117}} = \\ \n",
    "\\left[\\frac{3 \\sqrt{13}}{11}, - \\frac{16 \\sqrt{13}}{429}, - \\frac{14 \\sqrt{13}}{429}, - \\frac{4 \\sqrt{13}}{429}\\right]$"
   ]
  },
  {
   "cell_type": "code",
   "execution_count": 10,
   "metadata": {},
   "outputs": [
    {
     "name": "stdout",
     "output_type": "stream",
     "text": [
      "53/117\n"
     ]
    }
   ],
   "source": [
    "print(dot(ort[2],ort[2])) # - этот вектор не отнормирован"
   ]
  },
  {
   "cell_type": "markdown",
   "metadata": {},
   "source": [
    "$\\left[0, \\frac{53}{117}, - \\frac{56}{117}, - \\frac{16}{117}\\right]*\\sqrt{\\frac{117}{53}} = \\left[0, \\frac{\\sqrt{689}}{39}, - \\frac{56 \\sqrt{689}}{2067}, - \\frac{16 \\sqrt{689}}{2067}\\right]$"
   ]
  },
  {
   "cell_type": "code",
   "execution_count": 11,
   "metadata": {},
   "outputs": [
    {
     "name": "stdout",
     "output_type": "stream",
     "text": [
      "4/53\n"
     ]
    }
   ],
   "source": [
    "print(dot(ort[3],ort[3])) # - этот вектор не отнормирован"
   ]
  },
  {
   "cell_type": "markdown",
   "metadata": {},
   "source": [
    "$\\left[0, 0, \\frac{4}{53}, - \\frac{14}{53}, \\right] * \\sqrt{\\frac{53}{4}} = \\left[0, 0, \\frac{12 \\sqrt{689}}{2809}, - \\frac{42 \\sqrt{689}}{2809}, \\right]$"
   ]
  },
  {
   "cell_type": "markdown",
   "metadata": {},
   "source": [
    "# № 4"
   ]
  },
  {
   "cell_type": "code",
   "execution_count": 12,
   "metadata": {},
   "outputs": [],
   "source": [
    "U_sleq = tensor_from_iterable([\n",
    "    [-7, -3, 7, 3],\n",
    "    [2, 1, -2, -1]\n",
    "])"
   ]
  },
  {
   "cell_type": "code",
   "execution_count": 13,
   "metadata": {},
   "outputs": [
    {
     "data": {
      "text/plain": [
       "[[1, 0, 1, 0],\n",
       " [0, 1, 0, 1]]"
      ]
     },
     "execution_count": 13,
     "metadata": {},
     "output_type": "execute_result"
    }
   ],
   "source": [
    "U_basis = solve_hsle(U_sleq)\n",
    "U_basis"
   ]
  },
  {
   "cell_type": "markdown",
   "metadata": {},
   "source": [
    "Найдём проекцию по формуле:\n",
    "$pr_Uv = A(A^TA)^{-1}A^Tv$ "
   ]
  },
  {
   "cell_type": "code",
   "execution_count": 14,
   "metadata": {},
   "outputs": [],
   "source": [
    "v = Tensor([3,-3,5,-1])"
   ]
  },
  {
   "cell_type": "code",
   "execution_count": 15,
   "metadata": {},
   "outputs": [
    {
     "data": {
      "text/plain": [
       "[[ 4],\n",
       " [-2],\n",
       " [ 4],\n",
       " [-2]]"
      ]
     },
     "execution_count": 15,
     "metadata": {},
     "output_type": "execute_result"
    }
   ],
   "source": [
    "A = U_basis\n",
    "pr_U_v = dot(dot(dot(A.transpose2(),inverse_Gauss(dot(A, A.transpose2()))),A),v)\n",
    "pr_U_v"
   ]
  },
  {
   "cell_type": "markdown",
   "metadata": {},
   "source": [
    "$pr_Uv + ort_Uv = v \\iff ort_Uv = v-pr_Uv$"
   ]
  },
  {
   "cell_type": "code",
   "execution_count": 16,
   "metadata": {},
   "outputs": [
    {
     "data": {
      "text/plain": [
       "[-1, -1,  1,  1]"
      ]
     },
     "execution_count": 16,
     "metadata": {},
     "output_type": "execute_result"
    }
   ],
   "source": [
    "ort_v = v - pr_U_v.transpose2()[0]\n",
    "ort_v"
   ]
  },
  {
   "cell_type": "markdown",
   "metadata": {},
   "source": [
    "Расстояние от $v$ до $U$ = расстояние от вектора $v$ до его проекции = длина его ортогональной состовляющей :$\\sqrt{(ort_Uv, ort_Uv)}; (ort_Uv, ort_Uv) = $"
   ]
  },
  {
   "cell_type": "code",
   "execution_count": 17,
   "metadata": {},
   "outputs": [
    {
     "name": "stdout",
     "output_type": "stream",
     "text": [
      "4\n"
     ]
    }
   ],
   "source": [
    "print(dot(ort_v, ort_v))"
   ]
  },
  {
   "cell_type": "markdown",
   "metadata": {},
   "source": [
    "Итого расстояние = $\\sqrt{4} = 2$"
   ]
  }
 ],
 "metadata": {
  "kernelspec": {
   "display_name": "Python 3",
   "language": "python",
   "name": "python3"
  },
  "language_info": {
   "codemirror_mode": {
    "name": "ipython",
    "version": 3
   },
   "file_extension": ".py",
   "mimetype": "text/x-python",
   "name": "python",
   "nbconvert_exporter": "python",
   "pygments_lexer": "ipython3",
   "version": "3.7.6"
  }
 },
 "nbformat": 4,
 "nbformat_minor": 4
}
