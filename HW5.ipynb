{
 "cells": [
  {
   "cell_type": "code",
   "execution_count": 1,
   "metadata": {},
   "outputs": [],
   "source": [
    "from LinAlgFuncs import*"
   ]
  },
  {
   "cell_type": "markdown",
   "metadata": {},
   "source": [
    "## № 1"
   ]
  },
  {
   "cell_type": "markdown",
   "metadata": {},
   "source": [
    "#### a)"
   ]
  },
  {
   "cell_type": "code",
   "execution_count": 2,
   "metadata": {},
   "outputs": [],
   "source": [
    "a1 = tensor_from_iterable((-1, 0, -2, -2, -2)); a2 = tensor_from_iterable((-3, -3, -2, -2, -2)); a3 = tensor_from_iterable((0, -3, -2, -2, 1)); a4 = tensor_from_iterable((-1, 2, -2, -3, -3)); a5 = tensor_from_iterable((-1, 1, -3, 2, 0))"
   ]
  },
  {
   "cell_type": "code",
   "execution_count": 3,
   "metadata": {},
   "outputs": [],
   "source": [
    "b1 = tensor_from_iterable((26, -2, -14)); b2 = tensor_from_iterable((27, 3, -12)); b3 = tensor_from_iterable((6, 18, 6)); b4 = tensor_from_iterable((35, -9, -22)); b5 = tensor_from_iterable((14, -6, -10))"
   ]
  },
  {
   "cell_type": "code",
   "execution_count": 4,
   "metadata": {},
   "outputs": [],
   "source": [
    "A = Tensor((a1,a2,a3,a4,a5)).transpose2()"
   ]
  },
  {
   "cell_type": "code",
   "execution_count": 5,
   "metadata": {},
   "outputs": [],
   "source": [
    "B = Tensor((b1,b2,b3,b4,b5)).transpose2()"
   ]
  },
  {
   "cell_type": "code",
   "execution_count": 6,
   "metadata": {},
   "outputs": [
    {
     "name": "stdout",
     "output_type": "stream",
     "text": [
      "87\n"
     ]
    }
   ],
   "source": [
    "print(det(A))"
   ]
  },
  {
   "cell_type": "markdown",
   "metadata": {},
   "source": [
    "$M\\times A = B$\n",
    "\n",
    "$M = B\\times A^{-1}$\n",
    "\n",
    "Т.к. Отображение однозначно задаётся матрицей, то из существования и единственности решения уравнения $M\\times A = B$ следует существование и единственность отображения. $detA\\neq0 \\Rightarrow \\exists! \\phi$"
   ]
  },
  {
   "cell_type": "markdown",
   "metadata": {},
   "source": [
    "#### b) "
   ]
  },
  {
   "cell_type": "markdown",
   "metadata": {},
   "source": [
    "$M\\times A = B$\n",
    "\n",
    "$A^T\\times M^T = B^T$ - из-за особенностей реализации так проще считать"
   ]
  },
  {
   "cell_type": "code",
   "execution_count": 7,
   "metadata": {},
   "outputs": [
    {
     "data": {
      "text/plain": [
       "[[-2,  1, -5, -2, -5],\n",
       " [ 2, -3, -1, -2,  3],\n",
       " [ 2, -2,  2,  0,  4]]"
      ]
     },
     "execution_count": 7,
     "metadata": {},
     "output_type": "execute_result"
    }
   ],
   "source": [
    "M = solve_Gauss(A.transpose2(), B.transpose2()).transpose2()\n",
    "M"
   ]
  },
  {
   "cell_type": "markdown",
   "metadata": {},
   "source": [
    "Базис Ker $\\phi$: "
   ]
  },
  {
   "cell_type": "code",
   "execution_count": 8,
   "metadata": {},
   "outputs": [
    {
     "data": {
      "text/plain": [
       "[[-4, -3,  1,  0,  0],\n",
       " [-2, -2,  0,  1,  0],\n",
       " [-3, -1,  0,  0,  1]]"
      ]
     },
     "execution_count": 8,
     "metadata": {},
     "output_type": "execute_result"
    }
   ],
   "source": [
    "solve_hsle(M) #- список векторов. Вектора записаны по строкам"
   ]
  },
  {
   "cell_type": "markdown",
   "metadata": {},
   "source": [
    "Базис Im $\\phi$: "
   ]
  },
  {
   "cell_type": "code",
   "execution_count": 9,
   "metadata": {},
   "outputs": [
    {
     "data": {
      "text/plain": [
       "[[-2,  2,  2],\n",
       " [ 1, -3, -2]]"
      ]
     },
     "execution_count": 9,
     "metadata": {},
     "output_type": "execute_result"
    }
   ],
   "source": [
    "free, main = split_to_free_and_main_variables(M,1)\n",
    "main_columns = Tensor([i[0] for i in main])\n",
    "M.transpose2()[main_columns]"
   ]
  },
  {
   "cell_type": "markdown",
   "metadata": {},
   "source": [
    "## № 2"
   ]
  },
  {
   "cell_type": "code",
   "execution_count": 10,
   "metadata": {},
   "outputs": [],
   "source": [
    "A = tensor_from_iterable([\n",
    "    [-2, 0, -1, 1],\n",
    "    [-2, 0, -1, 1],\n",
    "    [-16, 8, 2, 10]\n",
    "])"
   ]
  },
  {
   "cell_type": "code",
   "execution_count": 11,
   "metadata": {
    "scrolled": true
   },
   "outputs": [
    {
     "name": "stdout",
     "output_type": "stream",
     "text": [
      "[[-1/2,  1/2,    1,    0],\n",
      " [-5/4, -1/4,    0,    1],\n",
      " [   1,    0,    0,    0],\n",
      " [   0,    1,    0,    0]]\n"
     ]
    }
   ],
   "source": [
    "ker = solve_hsle(A)\n",
    "bas_e = Tensor([*ker, *I(ker.shape()[1])])\n",
    "free, main = split_to_free_and_main_variables(bas_e)\n",
    "main_rows = Tensor([i[1] for i in main])\n",
    "e_new = bas_e[main_rows].transpose2() #записал по столбцам\n",
    "print(e_new)\n",
    "e1 = Tensor([1,0,0,0])\n",
    "e2 = Tensor([0,1,0,0])"
   ]
  },
  {
   "cell_type": "code",
   "execution_count": 12,
   "metadata": {},
   "outputs": [
    {
     "data": {
      "text/plain": [
       "[[ -2,  -2, -16],\n",
       " [  0,   0,   8]]"
      ]
     },
     "execution_count": 12,
     "metadata": {},
     "output_type": "execute_result"
    }
   ],
   "source": [
    "f1 = dot(A,e1)\n",
    "f2 = dot(A,e2)\n",
    "im = Tensor([f1.transpose2()[0],f2.transpose2()[0]])\n",
    "im"
   ]
  },
  {
   "cell_type": "code",
   "execution_count": 13,
   "metadata": {},
   "outputs": [
    {
     "data": {
      "text/plain": [
       "[[ -2,   0,   1],\n",
       " [ -2,   0,   0],\n",
       " [-16,   8,   0]]"
      ]
     },
     "execution_count": 13,
     "metadata": {},
     "output_type": "execute_result"
    }
   ],
   "source": [
    "free, main = split_to_free_and_main_variables(Tensor([*im,*I(3)]))\n",
    "main_rows = Tensor([i[1] for i in main])\n",
    "f_new = Tensor([*im,*I(3)])[main_rows].transpose2() #записал по столбцам\n",
    "f_new"
   ]
  },
  {
   "cell_type": "code",
   "execution_count": 14,
   "metadata": {},
   "outputs": [],
   "source": [
    "Ce = e_new.copy()\n",
    "Cf = inverse_Gauss(f_new)"
   ]
  },
  {
   "cell_type": "code",
   "execution_count": 15,
   "metadata": {},
   "outputs": [
    {
     "data": {
      "text/plain": [
       "[[0, 0, 1, 0],\n",
       " [0, 0, 0, 1],\n",
       " [0, 0, 0, 0]]"
      ]
     },
     "execution_count": 15,
     "metadata": {},
     "output_type": "execute_result"
    }
   ],
   "source": [
    "dot(Cf,dot(A, Ce))"
   ]
  },
  {
   "cell_type": "markdown",
   "metadata": {},
   "source": [
    "## № 3"
   ]
  },
  {
   "cell_type": "code",
   "execution_count": 16,
   "metadata": {},
   "outputs": [
    {
     "data": {
      "text/plain": [
       "[[  5,   5,  -2],\n",
       " [  1,  -6,   1],\n",
       " [ -1, -27,   7]]"
      ]
     },
     "execution_count": 16,
     "metadata": {},
     "output_type": "execute_result"
    }
   ],
   "source": [
    "e1 = Tensor([5,1,-1])\n",
    "e2 = Tensor([5,-6,-27])\n",
    "e3 = Tensor([-2,1,7])\n",
    "E = Tensor([e1,e2,e3]).transpose2() # по столбцам\n",
    "E"
   ]
  },
  {
   "cell_type": "markdown",
   "metadata": {},
   "source": [
    "$\\begin{pmatrix}\n",
    "\\varepsilon_1(e_1) & \\varepsilon_1(e_2) & \\varepsilon_1(e_3) \\\\\n",
    "\\varepsilon_2(e_1) & \\varepsilon_2(e_2) & \\varepsilon_2(e_3) \\\\\n",
    "\\varepsilon_3(e_1) & \\varepsilon_3(e_2) & \\varepsilon_3(e_3)\n",
    "\\end{pmatrix} = \n",
    "\\begin{pmatrix}\n",
    "e_{11} \\varepsilon_{11} + e_{12} \\varepsilon_{12} + e_{13} \\varepsilon_{13} & e_{21} \\varepsilon_{11} + e_{22} \\varepsilon_{12} + e_{23} \\varepsilon_{13} & e_{31} \\varepsilon_{11} + e_{32} \\varepsilon_{12} + e_{33} \\varepsilon_{13}\\\\\n",
    "e_{11} \\varepsilon_{21} + e_{12} \\varepsilon_{22} + e_{13} \\varepsilon_{23} & e_{21} \\varepsilon_{21} + e_{22} \\varepsilon_{22} + e_{23} \\varepsilon_{23} & e_{31} \\varepsilon_{21} + e_{32} \\varepsilon_{22} + e_{33} \\varepsilon_{23}\\\\\n",
    "e_{11} \\varepsilon_{31} + e_{12} \\varepsilon_{32} + e_{13} \\varepsilon_{33} & e_{21} \\varepsilon_{31} + e_{22} \\varepsilon_{32} + e_{23} \\varepsilon_{33} & e_{31} \\varepsilon_{31} + e_{32} \\varepsilon_{32} + e_{33} \\varepsilon_{33}\n",
    "\\end{pmatrix} =\n",
    "\\begin{pmatrix}\n",
    "\\varepsilon_1 \\\\ \n",
    "\\varepsilon_2 \\\\\n",
    "\\varepsilon_3\n",
    "\\end{pmatrix} \\times \n",
    "\\begin{pmatrix} e_1 & e_2 & e_3\\end{pmatrix} =\\\\ \\varepsilon\\times e =  \\begin{pmatrix}\n",
    "1 & 0 & 0 \\\\\n",
    "0 & 1 & 0\\\\\n",
    "0 & 0 & 1\n",
    "\\end{pmatrix}$\n",
    "\n",
    "$\\varepsilon = e^{-1}$"
   ]
  },
  {
   "cell_type": "code",
   "execution_count": 17,
   "metadata": {},
   "outputs": [
    {
     "data": {
      "text/plain": [
       "[[  15/49,  -19/49,     1/7],\n",
       " [   8/49,  -33/49,     1/7],\n",
       " [  33/49, -130/49,     5/7]]"
      ]
     },
     "execution_count": 17,
     "metadata": {},
     "output_type": "execute_result"
    }
   ],
   "source": [
    "Eps = inverse_Gauss(E, use_fractional=1)\n",
    "Eps"
   ]
  },
  {
   "cell_type": "markdown",
   "metadata": {},
   "source": [
    "$\\rho_1(f) = f(1) = f_1*1^2 + f_2*1 + f_3 = (1,1,1)$\n",
    "\n",
    "$\\rho_2(f) = f'(-1) = f_1*(-1) + f_2 + f_3*0 = (-1,1,0)$\n",
    "\n",
    "$\\rho_3(f) = \\frac{3}{2}\\int\\limits_0^2 f(x)dx = \\frac{3}{2}\\big(f_1*2^3+f_2*2^2+f_1*2\\big) = (12, 6, 3)$\n",
    "\n",
    "Аналогично для $\\rho$ и $f$:\n",
    "\n",
    "$\\rho \\times f = \\begin{pmatrix}\n",
    "1 & 0 & 0 \\\\\n",
    "0 & 1 & 0\\\\\n",
    "0 & 0 & 1\n",
    "\\end{pmatrix}$\n",
    "\n",
    "$f = \\rho^{-1}$"
   ]
  },
  {
   "cell_type": "code",
   "execution_count": 18,
   "metadata": {},
   "outputs": [],
   "source": [
    "Rho = tensor_from_iterable([\n",
    "    [1,1,1],\n",
    "    [-1,1,0],\n",
    "    [12,6,3]\n",
    "])"
   ]
  },
  {
   "cell_type": "code",
   "execution_count": 19,
   "metadata": {},
   "outputs": [
    {
     "data": {
      "text/plain": [
       "[[-1/4, -1/4, 1/12],\n",
       " [-1/4,  3/4, 1/12],\n",
       " [ 3/2, -1/2, -1/6]]"
      ]
     },
     "execution_count": 19,
     "metadata": {},
     "output_type": "execute_result"
    }
   ],
   "source": [
    "F = inverse_Gauss(Rho, use_fractional=1)\n",
    "F"
   ]
  },
  {
   "cell_type": "markdown",
   "metadata": {},
   "source": [
    "$T\\times\\mathbb{f} = \\mathbb{e}$ - матрица перехода от f к е\n",
    "\n",
    "$T = \\mathbb{e} \\times \\mathbb{f}^{-1}$\n",
    "\n",
    "$T = \\mathbb{e} \\times \\rho$"
   ]
  },
  {
   "cell_type": "code",
   "execution_count": 20,
   "metadata": {},
   "outputs": [],
   "source": [
    "T = dot(E,Rho)"
   ]
  },
  {
   "cell_type": "code",
   "execution_count": 21,
   "metadata": {},
   "outputs": [
    {
     "name": "stdout",
     "output_type": "stream",
     "text": [
      "h в координатах e: [-95,  86, 472]\n",
      "𝛼(ℎ) = -71\n"
     ]
    }
   ],
   "source": [
    "h = Tensor([4,-2,3])\n",
    "he = dot(T,h).transpose2()[0]\n",
    "print(\"h в координатах e:\",he) # h записанный в координатах е\n",
    "alpha = Tensor([3,-3,1])\n",
    "print(\"𝛼(ℎ) =\", dot(he,alpha))"
   ]
  },
  {
   "cell_type": "markdown",
   "metadata": {},
   "source": [
    "## № 4"
   ]
  },
  {
   "cell_type": "code",
   "execution_count": 22,
   "metadata": {},
   "outputs": [],
   "source": [
    "Q = tensor_from_iterable([\n",
    "    [-36,-108,36],\n",
    "    [-108,-162,216],\n",
    "    [36,216,-154]\n",
    "])"
   ]
  },
  {
   "cell_type": "code",
   "execution_count": 23,
   "metadata": {},
   "outputs": [],
   "source": [
    "def argmax(l):\n",
    "    return max(zip(l, range(len(l))))[1]\n",
    "\n",
    "def canon_square_Lagrange(Q):\n",
    "    assert len(Q.shape()) == 2, \"Need 2D Matrix\"\n",
    "    n = Q.shape()[0]\n",
    "    Q = Q.copy()\n",
    "    res = I(n)\n",
    "    assert n == Q.shape()[1], \"Need aquare matrix\"\n",
    "    i = 0\n",
    "    while i<n:\n",
    "        S = I(n)\n",
    "        if Q[i][i] != 0 and max(map(abs, Q[i][i:])) != 0:\n",
    "            S[i][i+1:] = -1*Q[i][i+1:]*Fraction(1,Q[i][i])\n",
    "            i+=1\n",
    "        elif max(map(abs, Q[i][i:])) != 0:\n",
    "            t = argmax(map(abs, Q[i][i:]))\n",
    "            S[i][t] = -1\n",
    "            S[t][i] = 1\n",
    "        else:\n",
    "            i+=1\n",
    "        Q = dot(S.transpose2(),dot(Q, S))\n",
    "        res = dot(res,S)\n",
    "    return res"
   ]
  },
  {
   "cell_type": "code",
   "execution_count": 24,
   "metadata": {
    "scrolled": true
   },
   "outputs": [],
   "source": [
    "S = canon_square_Lagrange(Q)"
   ]
  },
  {
   "cell_type": "code",
   "execution_count": 25,
   "metadata": {},
   "outputs": [
    {
     "data": {
      "text/plain": [
       "[[ -36,    0,    0],\n",
       " [   0,  162,    0],\n",
       " [   0,    0, -190]]"
      ]
     },
     "execution_count": 25,
     "metadata": {},
     "output_type": "execute_result"
    }
   ],
   "source": [
    "dot(S.transpose2(),dot(Q, S))"
   ]
  },
  {
   "cell_type": "code",
   "execution_count": 26,
   "metadata": {},
   "outputs": [
    {
     "data": {
      "text/plain": [
       "[[   1,   -3,    3],\n",
       " [   0,    1, -2/3],\n",
       " [   0,    0,    1]]"
      ]
     },
     "execution_count": 26,
     "metadata": {},
     "output_type": "execute_result"
    }
   ],
   "source": [
    "S"
   ]
  }
 ],
 "metadata": {
  "kernelspec": {
   "display_name": "Python 3",
   "language": "python",
   "name": "python3"
  },
  "language_info": {
   "codemirror_mode": {
    "name": "ipython",
    "version": 3
   },
   "file_extension": ".py",
   "mimetype": "text/x-python",
   "name": "python",
   "nbconvert_exporter": "python",
   "pygments_lexer": "ipython3",
   "version": "3.7.6"
  }
 },
 "nbformat": 4,
 "nbformat_minor": 4
}
