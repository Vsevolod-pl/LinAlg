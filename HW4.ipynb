{
 "cells": [
  {
   "cell_type": "code",
   "execution_count": 1,
   "metadata": {},
   "outputs": [],
   "source": [
    "from LinAlgFuncs import *"
   ]
  },
  {
   "cell_type": "markdown",
   "metadata": {},
   "source": [
    "# ИДЗ 4 - Вариант 24"
   ]
  },
  {
   "cell_type": "markdown",
   "metadata": {},
   "source": [
    "## 1"
   ]
  },
  {
   "cell_type": "code",
   "execution_count": 12,
   "metadata": {},
   "outputs": [],
   "source": [
    "e = tensor_from_iterable([\n",
    "    [-2,1,3],\n",
    "    [1,2,1],\n",
    "    [-1,2,-3]\n",
    "]).transpose2() #надо записать в столбцы"
   ]
  },
  {
   "cell_type": "code",
   "execution_count": 13,
   "metadata": {},
   "outputs": [],
   "source": [
    "e1 = tensor_from_iterable([\n",
    "    [-3,-1,-3],\n",
    "    [4,-2,2],\n",
    "    [-10,-5,1]\n",
    "]).transpose2() #надо записать в столбцы"
   ]
  },
  {
   "cell_type": "code",
   "execution_count": 14,
   "metadata": {},
   "outputs": [],
   "source": [
    "v = tensor_from_iterable((-3,-1,-2))"
   ]
  },
  {
   "cell_type": "code",
   "execution_count": 5,
   "metadata": {},
   "outputs": [],
   "source": [
    "#test\n",
    "e = tensor_from_iterable([\n",
    "    (2,-3,-3) , (-1, 1, 1) , (1, 3, 1)\n",
    "]).transpose2()\n",
    "e1 = tensor_from_iterable([\n",
    "    (-4, 2,-2) , (-7, 3, 3), (7,-3, 1)\n",
    "]).transpose2()\n",
    "v = tensor_from_iterable((-1,3,-4))"
   ]
  },
  {
   "cell_type": "markdown",
   "metadata": {},
   "source": [
    "По определению матрица перехода от базиса $\\mathbb{a}$ к $\\mathbb{b} = T$:\n",
    "\n",
    "$b_1 = \\alpha_{11}*a_1+...+\\alpha_{1n}*a_n$\n",
    "\n",
    "...\n",
    "\n",
    "$b_n = \\alpha_{n1}*a_1+...+\\alpha_{nn}*a_n$\n",
    "\n",
    "$T = \\begin{pmatrix}\n",
    "\\alpha_{11} & \\alpha_{12} & ... & \\alpha_{1n} \\\\\n",
    "\\alpha_{21} & \\alpha_{22} & ... & \\alpha_{2n} \\\\\n",
    "... & ... & ... & ...\\\\\n",
    "\\alpha_{n1} & \\alpha_{n2} & ... & \\alpha_{nn} \n",
    "\\end{pmatrix}$\n",
    "\n",
    "$T \\times \\mathbb{a} = \\mathbb{b} $\n",
    "\n",
    "$T = \\mathbb{b} \\times \\mathbb{a}^{-1}$"
   ]
  },
  {
   "cell_type": "code",
   "execution_count": 15,
   "metadata": {
    "scrolled": true
   },
   "outputs": [
    {
     "data": {
      "text/plain": [
       "[[   1/3, -14/15,  37/15],\n",
       " [  -3/2,    4/5,  -22/5],\n",
       " [   5/6,   -4/3,    2/3]]"
      ]
     },
     "execution_count": 15,
     "metadata": {},
     "output_type": "execute_result"
    }
   ],
   "source": [
    "T = dot(inverse_Gauss(e,use_fractional=1),e1)\n",
    "T"
   ]
  },
  {
   "cell_type": "markdown",
   "metadata": {},
   "source": [
    "$\\mathbb{e}' = T_{\\mathbb{e}\\rightarrow\\mathbb{e}'}\\times\\mathbb{e}$\n",
    "\n",
    "$x \\times \\mathbb{e} = y \\times \\mathbb{e}' = y \\times T_{\\mathbb{e}\\rightarrow\\mathbb{e}'} \\times \\mathbb{e}$\n",
    "\n",
    "$x = T_{\\mathbb{e}\\rightarrow\\mathbb{e}'} \\times y$\n",
    "\n",
    "$x \\times T_{\\mathbb{e}\\rightarrow\\mathbb{e}'}^{-1} = y$"
   ]
  },
  {
   "cell_type": "code",
   "execution_count": 17,
   "metadata": {
    "scrolled": true
   },
   "outputs": [
    {
     "data": {
      "text/plain": [
       "[[  18/5],\n",
       " [143/40],\n",
       " [ -7/20]]"
      ]
     },
     "execution_count": 17,
     "metadata": {},
     "output_type": "execute_result"
    }
   ],
   "source": [
    "dot(inverse_Gauss(T,use_fractional=1),v)"
   ]
  },
  {
   "cell_type": "markdown",
   "metadata": {},
   "source": [
    "## 2"
   ]
  },
  {
   "cell_type": "code",
   "execution_count": 18,
   "metadata": {},
   "outputs": [],
   "source": [
    "v1 = tensor_from_iterable((11, 7, -15, -11))\n",
    "v2 = tensor_from_iterable((12, -13, 3, -6))\n",
    "v3 = tensor_from_iterable((13, 15, 11, -3))\n",
    "v4 = tensor_from_iterable((9, 8, -8, -16))"
   ]
  },
  {
   "cell_type": "code",
   "execution_count": 19,
   "metadata": {},
   "outputs": [],
   "source": [
    "U = Tensor((v1, v2))\n",
    "W = Tensor((v3, v4))"
   ]
  },
  {
   "cell_type": "markdown",
   "metadata": {},
   "source": [
    "$\\left\\{\\begin{matrix} 1 & 0 \\\\\n",
    "0 & 1\n",
    "\\end{matrix}\\right. $"
   ]
  },
  {
   "cell_type": "markdown",
   "metadata": {},
   "source": [
    "$\\mathbb{R}^4 = U\\oplus W \\iff \\left\\{\\begin{matrix} dim \\mathbb{R}^4 = dim U + dim W\n",
    "\\\\ \\mathbb{R}^4=U+W\n",
    "\\end{matrix}\\right.$"
   ]
  },
  {
   "cell_type": "code",
   "execution_count": 20,
   "metadata": {},
   "outputs": [
    {
     "data": {
      "text/plain": [
       "True"
      ]
     },
     "execution_count": 20,
     "metadata": {},
     "output_type": "execute_result"
    }
   ],
   "source": [
    "rank(U)+rank(W) == 4"
   ]
  },
  {
   "cell_type": "code",
   "execution_count": 21,
   "metadata": {},
   "outputs": [],
   "source": [
    "x = tensor_from_iterable((-12, 22, 30, 9))"
   ]
  },
  {
   "cell_type": "code",
   "execution_count": 22,
   "metadata": {},
   "outputs": [],
   "source": [
    "D = Tensor((v1,v2,v3,v4)).transpose2()"
   ]
  },
  {
   "cell_type": "code",
   "execution_count": 23,
   "metadata": {},
   "outputs": [],
   "source": [
    "z = solve_Gauss(D,x,use_fractional=1)"
   ]
  },
  {
   "cell_type": "code",
   "execution_count": 24,
   "metadata": {},
   "outputs": [],
   "source": [
    "alpha = z[:rank(U)]\n",
    "beta = z[rank(U):]"
   ]
  },
  {
   "cell_type": "code",
   "execution_count": 25,
   "metadata": {},
   "outputs": [],
   "source": [
    "u = dot(alpha, U)\n",
    "w = dot(beta, W)"
   ]
  },
  {
   "cell_type": "code",
   "execution_count": 26,
   "metadata": {},
   "outputs": [
    {
     "data": {
      "text/plain": [
       "[[ 22,  23,   3, -19]]"
      ]
     },
     "execution_count": 26,
     "metadata": {},
     "output_type": "execute_result"
    }
   ],
   "source": [
    "w"
   ]
  },
  {
   "cell_type": "code",
   "execution_count": 27,
   "metadata": {},
   "outputs": [
    {
     "data": {
      "text/plain": [
       "[[0, 0, 0, 0]]"
      ]
     },
     "execution_count": 27,
     "metadata": {},
     "output_type": "execute_result"
    }
   ],
   "source": [
    "u+w-Tensor([x]) #просто проверил"
   ]
  },
  {
   "cell_type": "markdown",
   "metadata": {},
   "source": [
    "## 3"
   ]
  },
  {
   "cell_type": "code",
   "execution_count": 28,
   "metadata": {},
   "outputs": [],
   "source": [
    "v1 = tensor_from_iterable((14, 5, -11, -4, -10))\n",
    "v2 = tensor_from_iterable((-10, -1, 11, 8, 14))\n",
    "v3 = tensor_from_iterable((-3, -9, 4, 2, -14))\n",
    "v4 = tensor_from_iterable((-41, -20, 37, 18, 20))"
   ]
  },
  {
   "cell_type": "markdown",
   "metadata": {},
   "source": [
    "Выделим линейнго независимую подсистему"
   ]
  },
  {
   "cell_type": "code",
   "execution_count": 29,
   "metadata": {},
   "outputs": [
    {
     "data": {
      "text/plain": [
       "[[ 1,  0,  0, -2],\n",
       " [ 0,  1,  0,  1],\n",
       " [ 0,  0,  1,  1],\n",
       " [ 0,  0,  0,  0],\n",
       " [ 0,  0,  0,  0]]"
      ]
     },
     "execution_count": 29,
     "metadata": {},
     "output_type": "execute_result"
    }
   ],
   "source": [
    "rref(Tensor((v1,v2,v3,v4)).transpose2())"
   ]
  },
  {
   "cell_type": "markdown",
   "metadata": {},
   "source": [
    "`v1, v2, v3`- лин. независ система"
   ]
  },
  {
   "cell_type": "markdown",
   "metadata": {},
   "source": [
    "Воспользуемся алгоритмом дополнения лин. независ системы векторов до базиса "
   ]
  },
  {
   "cell_type": "code",
   "execution_count": 30,
   "metadata": {},
   "outputs": [
    {
     "data": {
      "text/plain": [
       "[[       1,        0,        0,      5/6, -115/102],\n",
       " [       0,        1,        0,      1/6,  217/102],\n",
       " [       0,        0,        1,      3/2,    15/34],\n",
       " [       0,        0,        0,        0,        0]]"
      ]
     },
     "execution_count": 30,
     "metadata": {},
     "output_type": "execute_result"
    }
   ],
   "source": [
    "rref(Tensor((v1,v2,v3,v4)))"
   ]
  },
  {
   "cell_type": "markdown",
   "metadata": {},
   "source": [
    "Как можно видеть, нам нужны вектора\n",
    "\n",
    "$е1 = [0, 0, 0, 1, 0]\n",
    "\\\\е2 = [0, 0, 0, 0, 1]$\n",
    "\n",
    "$\\mathbb{e} = \\{e1, e2\\}$ - базис $W$\n",
    "\n",
    "Докажем, что $U\\oplus W=\\mathbb{R}^5$:\n",
    "\n",
    "1. $U+W=\\mathbb{R}^5$ по построению $W$\n",
    "2. $dimU = 3,\\ dimW = 2,\\ dimU+dimW=5=dim\\mathbb{R}^5$\n",
    "\n",
    "$\\left. \\begin{matrix} dim \\mathbb{R}^5 = dim U + dim W\n",
    "\\\\ \\mathbb{R}^5=U+W\n",
    "\\end{matrix}\\right\\} \\iff U\\oplus W=\\mathbb{R}^5$"
   ]
  },
  {
   "cell_type": "markdown",
   "metadata": {},
   "source": [
    "## 4"
   ]
  },
  {
   "cell_type": "code",
   "execution_count": 48,
   "metadata": {},
   "outputs": [],
   "source": [
    "e = tensor_from_iterable([\n",
    "    (3,-3,1),\n",
    "    (-1,3,-1),\n",
    "    (1,4,-1)\n",
    "])"
   ]
  },
  {
   "cell_type": "code",
   "execution_count": 49,
   "metadata": {},
   "outputs": [],
   "source": [
    "f = tensor_from_iterable([\n",
    "    [-2,-1],\n",
    "    [1,1]\n",
    "])"
   ]
  },
  {
   "cell_type": "code",
   "execution_count": 50,
   "metadata": {},
   "outputs": [],
   "source": [
    "A = tensor_from_iterable([\n",
    "    [3, 5, -4],\n",
    "    [1,-2,-5]\n",
    "])"
   ]
  },
  {
   "cell_type": "code",
   "execution_count": 51,
   "metadata": {},
   "outputs": [],
   "source": [
    "v = Tensor([3,-4,1])"
   ]
  },
  {
   "cell_type": "markdown",
   "metadata": {},
   "source": [
    "Найдём координаты вектора `v` в базисе  $\\mathbb{e}$"
   ]
  },
  {
   "cell_type": "code",
   "execution_count": 57,
   "metadata": {},
   "outputs": [
    {
     "data": {
      "text/plain": [
       "[ 2,  2, -1]"
      ]
     },
     "execution_count": 57,
     "metadata": {},
     "output_type": "execute_result"
    }
   ],
   "source": [
    "x = solve_Gauss(e.transpose2(),v,use_fractional=1)\n",
    "x"
   ]
  },
  {
   "cell_type": "markdown",
   "metadata": {},
   "source": [
    "$\\varphi(1-4x+3x^2)$ в координатах $\\mathbb{f}$ :"
   ]
  },
  {
   "cell_type": "code",
   "execution_count": 59,
   "metadata": {},
   "outputs": [
    {
     "data": {
      "text/plain": [
       "[[20],\n",
       " [ 3]]"
      ]
     },
     "execution_count": 59,
     "metadata": {},
     "output_type": "execute_result"
    }
   ],
   "source": [
    "y = dot(A, x)\n",
    "y #"
   ]
  },
  {
   "cell_type": "markdown",
   "metadata": {},
   "source": [
    "$\\varphi(1-4x+3x^2)$ в стандартном базисе $\\mathbb{R}^2$: "
   ]
  },
  {
   "cell_type": "code",
   "execution_count": 63,
   "metadata": {},
   "outputs": [
    {
     "data": {
      "text/plain": [
       "[[-37],\n",
       " [-17]]"
      ]
     },
     "execution_count": 63,
     "metadata": {},
     "output_type": "execute_result"
    }
   ],
   "source": [
    "dot(f.transpose2(),y)"
   ]
  }
 ],
 "metadata": {
  "kernelspec": {
   "display_name": "Python 3",
   "language": "python",
   "name": "python3"
  },
  "language_info": {
   "codemirror_mode": {
    "name": "ipython",
    "version": 3
   },
   "file_extension": ".py",
   "mimetype": "text/x-python",
   "name": "python",
   "nbconvert_exporter": "python",
   "pygments_lexer": "ipython3",
   "version": "3.7.4"
  }
 },
 "nbformat": 4,
 "nbformat_minor": 2
}
