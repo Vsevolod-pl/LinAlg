{
 "cells": [
  {
   "cell_type": "code",
   "execution_count": 2,
   "metadata": {},
   "outputs": [],
   "source": [
    "from LinAlgFuncs import *"
   ]
  },
  {
   "cell_type": "markdown",
   "metadata": {},
   "source": [
    "## 1"
   ]
  },
  {
   "cell_type": "code",
   "execution_count": 3,
   "metadata": {},
   "outputs": [],
   "source": [
    "a = tensor_from_iterable([\n",
    "    [ -1,   0,   0,  -1, -13],\n",
    "    [  6,   5,   2,   3,  -1],\n",
    "    [ -3,  -2,  -1,  -2,  -3],\n",
    "    [-19, -16,  -6,  -9,  -3],\n",
    "    [  4,   4,   1,   1,   2]])"
   ]
  },
  {
   "cell_type": "code",
   "execution_count": 4,
   "metadata": {},
   "outputs": [
    {
     "name": "stdout",
     "output_type": "stream",
     "text": [
      "3\n"
     ]
    }
   ],
   "source": [
    "print(rank(a)) # значит нужно представить в виде суммы 3х матриц ранга 1"
   ]
  },
  {
   "cell_type": "code",
   "execution_count": 5,
   "metadata": {},
   "outputs": [],
   "source": [
    "b1 = zeros(*a.shape())\n",
    "b2 = zeros(*a.shape())\n",
    "b3 = zeros(*a.shape())"
   ]
  },
  {
   "cell_type": "code",
   "execution_count": 6,
   "metadata": {},
   "outputs": [
    {
     "name": "stdout",
     "output_type": "stream",
     "text": [
      "rank b1: 1\n"
     ]
    }
   ],
   "source": [
    "#Эти коэффициенты я подобрал вручную\n",
    "b1[0,0] = -1\n",
    "b1[0,3] = -1\n",
    "b1[0,4] = -13\n",
    "\n",
    "b1[3] = b1[0,:]\n",
    "b1[4] = -1*b1[0,:]\n",
    "\n",
    "print(\"rank b1:\",rank(b1))"
   ]
  },
  {
   "cell_type": "code",
   "execution_count": 7,
   "metadata": {},
   "outputs": [
    {
     "name": "stdout",
     "output_type": "stream",
     "text": [
      "rank b2: 1\n"
     ]
    }
   ],
   "source": [
    "b2[1,0] = 6\n",
    "b2[1,1] = 5\n",
    "b2[1,2] = 2\n",
    "b2[1,3] = 3\n",
    "b2[1,4] = -1\n",
    "\n",
    "b2[3] = -4*b2[1,:]\n",
    "b2[4] = 2*b2[1,:]\n",
    "\n",
    "print(\"rank b2:\",rank(b2))"
   ]
  },
  {
   "cell_type": "code",
   "execution_count": 8,
   "metadata": {},
   "outputs": [
    {
     "name": "stdout",
     "output_type": "stream",
     "text": [
      "rank b3: 1\n"
     ]
    }
   ],
   "source": [
    "b3[2,0] = -3\n",
    "b3[2,1] = -2\n",
    "b3[2,2] = -1\n",
    "b3[2,3] = -2\n",
    "b3[2,4] = -3\n",
    "\n",
    "b3[3] = -2*b3[2,:]\n",
    "b3[4] = 3*b3[2,:]\n",
    "\n",
    "print(\"rank b3:\",rank(b3))"
   ]
  },
  {
   "cell_type": "code",
   "execution_count": 9,
   "metadata": {},
   "outputs": [
    {
     "name": "stdout",
     "output_type": "stream",
     "text": [
      "b1:\n",
      "[[ -1,   0,   0,  -1, -13],\n",
      " [  0,   0,   0,   0,   0],\n",
      " [  0,   0,   0,   0,   0],\n",
      " [ -1,   0,   0,  -1, -13],\n",
      " [  1,   0,   0,   1,  13]]\n",
      "b2:\n",
      "[[  0,   0,   0,   0,   0],\n",
      " [  6,   5,   2,   3,  -1],\n",
      " [  0,   0,   0,   0,   0],\n",
      " [-24, -20,  -8, -12,   4],\n",
      " [ 12,  10,   4,   6,  -2]]\n",
      "b3:\n",
      "[[ 0,  0,  0,  0,  0],\n",
      " [ 0,  0,  0,  0,  0],\n",
      " [-3, -2, -1, -2, -3],\n",
      " [ 6,  4,  2,  4,  6],\n",
      " [-9, -6, -3, -6, -9]]\n",
      "\n",
      "b1+b2+b3 - a:\n",
      "[[0, 0, 0, 0, 0],\n",
      " [0, 0, 0, 0, 0],\n",
      " [0, 0, 0, 0, 0],\n",
      " [0, 0, 0, 0, 0],\n",
      " [0, 0, 0, 0, 0]]\n"
     ]
    }
   ],
   "source": [
    "print(\"b1:\",b1,\"b2:\",b2,\"b3:\",b3,sep=\"\\n\")\n",
    "print()\n",
    "print(\"b1+b2+b3 - a:\")\n",
    "print(b1+b2+b3-a)"
   ]
  },
  {
   "cell_type": "markdown",
   "metadata": {},
   "source": [
    "## 2"
   ]
  },
  {
   "cell_type": "code",
   "execution_count": 10,
   "metadata": {},
   "outputs": [],
   "source": [
    "u1 = tensor_from_iterable((-48, -3, -1, 8))\n",
    "u2 = tensor_from_iterable((40, 2, 0, -6))\n",
    "u3 = tensor_from_iterable((-24, -3, -3, 6))\n",
    "u4 = tensor_from_iterable((5, 1, 2, -6))\n",
    "U = Tensor((u1,u2,u3,u4)).transpose2() #записать вектора по столбцам\n",
    "\n",
    "v1 = tensor_from_iterable((-20, -4, -5, 7))\n",
    "v2 = tensor_from_iterable((-7, 7, -5, 2))"
   ]
  },
  {
   "cell_type": "code",
   "execution_count": 11,
   "metadata": {
    "scrolled": true
   },
   "outputs": [
    {
     "name": "stdout",
     "output_type": "stream",
     "text": [
      "[[1, 0, 3, 0],\n",
      " [0, 1, 3, 0],\n",
      " [0, 0, 0, 1],\n",
      " [0, 0, 0, 0]]\n"
     ]
    }
   ],
   "source": [
    "print(rref(U)) # => базис - u1, u2, u4, т.к. они стояли на местах главных позиций"
   ]
  },
  {
   "cell_type": "code",
   "execution_count": 12,
   "metadata": {},
   "outputs": [],
   "source": [
    "A = Tensor((u1,u2,u3,u4,v1,v2)).transpose2() #записал вектора по столбцам"
   ]
  },
  {
   "cell_type": "code",
   "execution_count": 13,
   "metadata": {},
   "outputs": [
    {
     "name": "stdout",
     "output_type": "stream",
     "text": [
      "[[   1,    0,    3,    0,    5,    0],\n",
      " [   0,    1,    3,    0, 11/2,    0],\n",
      " [   0,    0,    0,    1,    0,    0],\n",
      " [   0,    0,    0,    0,    0,    1]]\n"
     ]
    }
   ],
   "source": [
    "print(rref(A)) # => u1, u2, u4 - базис, v1 лежит в U, v2 - нет, так как v2 - главная позиция"
   ]
  },
  {
   "cell_type": "code",
   "execution_count": 14,
   "metadata": {},
   "outputs": [],
   "source": [
    "B = tensor_from_iterable((v1, [ 0, 1, 0, 0], [0, 0, 1, 0])) # дополним единичными векторами"
   ]
  },
  {
   "cell_type": "code",
   "execution_count": 15,
   "metadata": {},
   "outputs": [
    {
     "name": "stdout",
     "output_type": "stream",
     "text": [
      "[[-20,  -4,  -5,   7],\n",
      " [  0,   1,   0,   0],\n",
      " [  0,   0,   1,   0]]\n"
     ]
    }
   ],
   "source": [
    "print(B)"
   ]
  },
  {
   "cell_type": "markdown",
   "metadata": {},
   "source": [
    "## 3"
   ]
  },
  {
   "cell_type": "code",
   "execution_count": 23,
   "metadata": {},
   "outputs": [],
   "source": [
    "u1 = tensor_from_iterable((2, -1, 14, 5))\n",
    "u2 = tensor_from_iterable((-1, -2, 3, 0))\n",
    "u3 = tensor_from_iterable((1, -1, 9, 3))\n",
    "u4 = tensor_from_iterable((-2, 3, -22, -7))\n",
    "B = Tensor((u1,u2,u3,u4)) # записал ветора в матрицу по строкам"
   ]
  },
  {
   "cell_type": "code",
   "execution_count": 24,
   "metadata": {},
   "outputs": [],
   "source": [
    "A = Tensor(solve_hsle(B)) # записал решение в другую матрицу по строкам"
   ]
  },
  {
   "cell_type": "code",
   "execution_count": 25,
   "metadata": {},
   "outputs": [
    {
     "name": "stdout",
     "output_type": "stream",
     "text": [
      "[[-5,  4,  1,  0],\n",
      " [-2,  1,  0,  1]]\n"
     ]
    }
   ],
   "source": [
    "print(A)"
   ]
  },
  {
   "cell_type": "markdown",
   "metadata": {},
   "source": [
    "## 4"
   ]
  },
  {
   "cell_type": "code",
   "execution_count": 27,
   "metadata": {},
   "outputs": [],
   "source": [
    "a1 = (-16, 5, 3, -4)\n",
    "a2 = (-19, 10, -3, -11)\n",
    "a3 = (2, 1, -3, -2)\n",
    "a4 = (-5, 4, -3, -5)"
   ]
  },
  {
   "cell_type": "code",
   "execution_count": 28,
   "metadata": {},
   "outputs": [],
   "source": [
    "b1 = (-4, 4, 1, -2)\n",
    "b2 = (4, 1, 5, 4)\n",
    "b3 = (20, -10, 7, 14)\n",
    "b4 = (-12, 7, -3, -8)"
   ]
  },
  {
   "cell_type": "code",
   "execution_count": 34,
   "metadata": {},
   "outputs": [
    {
     "name": "stdout",
     "output_type": "stream",
     "text": [
      "[[   1,    0, -3/5, -2/5,    0,  1/5,  2/5, -1/5],\n",
      " [   0,    1,  2/5,  3/5,    0, -4/5, -8/5,  4/5],\n",
      " [   0,    0,    0,    0,    1,    2,    1,    0],\n",
      " [   0,    0,    0,    0,    0,    0,    0,    0]]\n",
      "базис L1 + L2: (-16, 5, 3, -4) (-19, 10, -3, -11) (-4, 4, 1, -2)\n",
      "размерность: 3\n"
     ]
    }
   ],
   "source": [
    "A = tensor_from_iterable([a1,a2,a3,a4,b1,b2,b3,b4]).transpose2()\n",
    "print(rref(A)) #a1, a2, b1, базис U, т.к. они стояли на местах главных позиций\n",
    "print(\"базис L1 + L2:\", a1, a2, b1)\n",
    "print(\"размерность:\", rank(A))"
   ]
  },
  {
   "cell_type": "code",
   "execution_count": 30,
   "metadata": {},
   "outputs": [
    {
     "name": "stdout",
     "output_type": "stream",
     "text": [
      "L1 = ФСР Dx=0, D=\n",
      "[[ 9/13, 21/13,     1,     0],\n",
      " [ 3/13, 20/13,     0,     1]]\n"
     ]
    }
   ],
   "source": [
    "B1 = tensor_from_iterable([a1,a2,a3,a4]) # записал по строкам\n",
    "D = Tensor(solve_hsle(B1)) # L1 = ФСР Dx=0\n",
    "print(\"L1 = ФСР Dx=0, D=\", D, sep=\"\\n\")"
   ]
  },
  {
   "cell_type": "code",
   "execution_count": 31,
   "metadata": {},
   "outputs": [
    {
     "name": "stdout",
     "output_type": "stream",
     "text": [
      "L2 = ФСР Fx=0, F=\n",
      "[[-19/20,   -6/5,      1,      0],\n",
      " [ -9/10,   -2/5,      0,      1]]\n"
     ]
    }
   ],
   "source": [
    "B2 = tensor_from_iterable([b1,b2,b3,b4]) # записал по строкам\n",
    "F = Tensor(solve_hsle(B2)) # L2 = ФСР Fx=0\n",
    "print(\"L2 = ФСР Fx=0, F=\", F, sep=\"\\n\")"
   ]
  },
  {
   "cell_type": "code",
   "execution_count": 32,
   "metadata": {},
   "outputs": [
    {
     "name": "stdout",
     "output_type": "stream",
     "text": [
      "L1 ∩ L2 = ФСР D/F x = 0\n",
      "[[  9/13,  21/13,      1,      0],\n",
      " [  3/13,  20/13,      0,      1],\n",
      " [-19/20,   -6/5,      1,      0],\n",
      " [ -9/10,   -2/5,      0,      1]]\n"
     ]
    }
   ],
   "source": [
    "#L1 ∩ L2 = ФСР D/F x = 0\n",
    "G = tensor_from_iterable((*D,*F))\n",
    "print(\"L1 ∩ L2 = ФСР D/F x = 0\", G, sep=\"\\n\")"
   ]
  },
  {
   "cell_type": "code",
   "execution_count": 33,
   "metadata": {},
   "outputs": [
    {
     "name": "stdout",
     "output_type": "stream",
     "text": [
      "базис L1 ∩ L2: [[ 3/2, -7/8,  3/8,    1]]\n",
      "размерность: 1\n"
     ]
    }
   ],
   "source": [
    "x = Tensor(solve_hsle(G))\n",
    "print(\"базис L1 ∩ L2:\", x)\n",
    "print(\"размерность:\", rank(x))"
   ]
  },
  {
   "cell_type": "code",
   "execution_count": null,
   "metadata": {},
   "outputs": [],
   "source": []
  }
 ],
 "metadata": {
  "kernelspec": {
   "display_name": "Python 3",
   "language": "python",
   "name": "python3"
  },
  "language_info": {
   "codemirror_mode": {
    "name": "ipython",
    "version": 3
   },
   "file_extension": ".py",
   "mimetype": "text/x-python",
   "name": "python",
   "nbconvert_exporter": "python",
   "pygments_lexer": "ipython3",
   "version": "3.7.4"
  }
 },
 "nbformat": 4,
 "nbformat_minor": 2
}
